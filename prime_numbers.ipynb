{
 "cells": [
  {
   "cell_type": "code",
   "execution_count": 3,
   "id": "ad1307bc-cb84-4233-a834-fbf6e4ea0172",
   "metadata": {},
   "outputs": [
    {
     "name": "stdin",
     "output_type": "stream",
     "text": [
      " -5\n"
     ]
    },
    {
     "name": "stdout",
     "output_type": "stream",
     "text": [
      "It's not a prime number\n"
     ]
    }
   ],
   "source": [
    "import math\n",
    "\n",
    "\n",
    "def check(a):\n",
    "    if (a<=1): return False\n",
    "    for i in range(2, int(math.sqrt(a))+1):\n",
    "        if a%i == 0:\n",
    "            return False\n",
    "    return True\n",
    "\n",
    "\n",
    "a = int(input())\n",
    "if check(a):\n",
    "    print(\"It's a prime number\")\n",
    "else: print(\"It's not a prime number\")\n",
    "\n"
   ]
  },
  {
   "cell_type": "code",
   "execution_count": null,
   "id": "5405ba08-4b8f-48f5-b24c-d0a4d61ab62f",
   "metadata": {},
   "outputs": [],
   "source": []
  }
 ],
 "metadata": {
  "kernelspec": {
   "display_name": "Python 3 (ipykernel)",
   "language": "python",
   "name": "python3"
  },
  "language_info": {
   "codemirror_mode": {
    "name": "ipython",
    "version": 3
   },
   "file_extension": ".py",
   "mimetype": "text/x-python",
   "name": "python",
   "nbconvert_exporter": "python",
   "pygments_lexer": "ipython3",
   "version": "3.9.7"
  }
 },
 "nbformat": 4,
 "nbformat_minor": 5
}
