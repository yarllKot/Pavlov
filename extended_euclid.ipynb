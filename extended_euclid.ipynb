{
 "cells": [
  {
   "cell_type": "code",
   "execution_count": 2,
   "id": "26e7361a-8d9b-4336-8571-a4e38bb824b0",
   "metadata": {},
   "outputs": [
    {
     "name": "stdin",
     "output_type": "stream",
     "text": [
      " 96\n",
      " 18\n"
     ]
    },
    {
     "data": {
      "text/plain": [
       "(1, -5, 6)"
      ]
     },
     "execution_count": 2,
     "metadata": {},
     "output_type": "execute_result"
    }
   ],
   "source": [
    "def ex_gcd(a, b):\n",
    "    if b == 0:\n",
    "        return 1, 0, a\n",
    "    x = ex_gcd(b, a%b)[0]\n",
    "    y = ex_gcd(b, a%b)[1]\n",
    "    d = ex_gcd(b, a % b)[2]\n",
    "    return y ,x-(a//b)*y, d\n",
    "\n",
    "\n",
    "a = int(input())\n",
    "b = int(input())\n",
    "ex_gcd(max(a, b), min(a, b))"
   ]
  },
  {
   "cell_type": "code",
   "execution_count": null,
   "id": "c6f6de19-d656-48e7-85eb-e197b1b8487f",
   "metadata": {},
   "outputs": [],
   "source": []
  }
 ],
 "metadata": {
  "kernelspec": {
   "display_name": "Python 3 (ipykernel)",
   "language": "python",
   "name": "python3"
  },
  "language_info": {
   "codemirror_mode": {
    "name": "ipython",
    "version": 3
   },
   "file_extension": ".py",
   "mimetype": "text/x-python",
   "name": "python",
   "nbconvert_exporter": "python",
   "pygments_lexer": "ipython3",
   "version": "3.10.0"
  }
 },
 "nbformat": 4,
 "nbformat_minor": 5
}
